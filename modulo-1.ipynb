{
 "cells": [
  {
   "cell_type": "markdown",
   "metadata": {
    "slideshow": {
     "slide_type": "slide"
    }
   },
   "source": [
    "# AI Session 01: Machine Learning\n",
    "- Joaquín Barotto\n",
    "- Daniel Bridera\n",
    "- Emanuel Lupi"
   ]
  },
  {
   "cell_type": "markdown",
   "metadata": {
    "slideshow": {
     "slide_type": "slide"
    }
   },
   "source": [
    "![](./img/AI-ML-DL.png)"
   ]
  },
  {
   "cell_type": "markdown",
   "metadata": {
    "slideshow": {
     "slide_type": "slide"
    }
   },
   "source": [
    "# Salarios Promedios (Indeed - USA)\n",
    "![](./img/salary-2.png)"
   ]
  },
  {
   "cell_type": "markdown",
   "metadata": {
    "slideshow": {
     "slide_type": "slide"
    }
   },
   "source": [
    "# Aumento de demanda (2012-2017)\n",
    "![](./img/growth-2.png)"
   ]
  },
  {
   "cell_type": "markdown",
   "metadata": {
    "slideshow": {
     "slide_type": "slide"
    }
   },
   "source": [
    "# TITANIC\n",
    "\n",
    "- Solo 722 de 2224 personas sobrevivieron\n",
    "- Hay tipos de personas que son más propensos para sobrevivir\n",
    "\n",
    "![](./img/titanic.jpg)"
   ]
  },
  {
   "cell_type": "markdown",
   "metadata": {
    "slideshow": {
     "slide_type": "slide"
    }
   },
   "source": [
    "# Tipos de aprendizaje\n",
    "* Supervisado\n",
    "* No Supervisado"
   ]
  },
  {
   "cell_type": "markdown",
   "metadata": {
    "slideshow": {
     "slide_type": "subslide"
    }
   },
   "source": [
    "## Aprendizaje *supervisado*\n",
    "Los datos de entrada están etiquetados con sus resultados esperados.\n",
    "![](./img/supervised-2.png)"
   ]
  },
  {
   "cell_type": "markdown",
   "metadata": {
    "slideshow": {
     "slide_type": "subslide"
    }
   },
   "source": [
    "\n",
    "## Aprendizaje *no supervisado*\n",
    "Los datos de entrada no están etiquetados. Desconocemos el resultado esperado. El objetivo es buscar patrones entre estos datos.\n",
    "![](./img/unsupervised-2.png)"
   ]
  },
  {
   "cell_type": "markdown",
   "metadata": {
    "slideshow": {
     "slide_type": "slide"
    }
   },
   "source": [
    "# Clasificación"
   ]
  },
  {
   "cell_type": "markdown",
   "metadata": {
    "slideshow": {
     "slide_type": "fragment"
    }
   },
   "source": [
    "- Es un caso de aprendizaje supervisado.\n",
    "- Tenemos un conjunto predefinido de **clases**."
   ]
  },
  {
   "cell_type": "markdown",
   "metadata": {
    "slideshow": {
     "slide_type": "slide"
    }
   },
   "source": [
    "## Tipos de clasificación\n",
    "* Binaria\n",
    "* Multiclase\n",
    "* Multilabel"
   ]
  },
  {
   "cell_type": "markdown",
   "metadata": {
    "slideshow": {
     "slide_type": "subslide"
    }
   },
   "source": [
    "### Clasificación *binaria*\n",
    "Para cada dato de entrada queremos decidir si pertenece o no a una clase en particular. Ej.: decidir si un email es *spam* o no.\n",
    "![](./img/binary.png)"
   ]
  },
  {
   "cell_type": "markdown",
   "metadata": {
    "slideshow": {
     "slide_type": "subslide"
    }
   },
   "source": [
    "### Clasificación *multiclase*\n",
    "Para cada dato de entrada queremos elegir a cuál de todas las categorías pertenece. Ej.: dada una imágen de una letra decidir cuál es (no puede ser dos letras al mismo tiempo).\n",
    "![](./img/multiclass.png)"
   ]
  },
  {
   "cell_type": "markdown",
   "metadata": {
    "slideshow": {
     "slide_type": "subslide"
    }
   },
   "source": [
    "### Clasificación *multilabel*\n",
    "Para cada dato de entrada queremos decidir a cuáles categorías pertenece. Ej.: dada una noticia decidir a que categorías pertenece (puede ser a más de una, como \"Política\" y \"Economía\"). \n",
    "![](./img/multilabel.png)"
   ]
  },
  {
   "cell_type": "markdown",
   "metadata": {
    "slideshow": {
     "slide_type": "slide"
    }
   },
   "source": [
    "# Regresión"
   ]
  },
  {
   "cell_type": "markdown",
   "metadata": {
    "slideshow": {
     "slide_type": "fragment"
    }
   },
   "source": [
    "* Es un caso de aprendizaje supervisado."
   ]
  },
  {
   "cell_type": "markdown",
   "metadata": {
    "slideshow": {
     "slide_type": "fragment"
    }
   },
   "source": [
    "Cuando el valor que queremos predecir cae en un intervalo continuo estamos hablando de un problema de regresión.\n",
    "\n",
    "Ej.: Dados datos de una casa (superficie, ubicación, cantidad de habitaciones, etc.) determinar el precio de venta."
   ]
  },
  {
   "cell_type": "markdown",
   "metadata": {
    "slideshow": {
     "slide_type": "slide"
    }
   },
   "source": [
    "# Clustering"
   ]
  },
  {
   "cell_type": "markdown",
   "metadata": {
    "slideshow": {
     "slide_type": "fragment"
    }
   },
   "source": [
    "* Es un caso de aprendizaje no supervisado."
   ]
  },
  {
   "cell_type": "markdown",
   "metadata": {
    "slideshow": {
     "slide_type": "fragment"
    }
   },
   "source": [
    "Dado un conjunto de datos queremos agrupar los que son \"similares\" de alguna forma.\n",
    "\n",
    "Ej.: Agrupar noticias que hablan del mismo hecho."
   ]
  },
  {
   "cell_type": "markdown",
   "metadata": {
    "slideshow": {
     "slide_type": "slide"
    }
   },
   "source": [
    "# Problema\n",
    "Necesitamos separar las cruces rojas de los puntos azules"
   ]
  },
  {
   "cell_type": "markdown",
   "metadata": {
    "slideshow": {
     "slide_type": "subslide"
    }
   },
   "source": [
    "![](./img/fit.png)"
   ]
  },
  {
   "cell_type": "markdown",
   "metadata": {
    "slideshow": {
     "slide_type": "slide"
    }
   },
   "source": [
    "## Underfitting\n",
    "Nuestra solución generalizó demasiado sobre nuestros datos y no aprendimos los detalles de nuestro problema en particular."
   ]
  },
  {
   "cell_type": "markdown",
   "metadata": {
    "slideshow": {
     "slide_type": "subslide"
    }
   },
   "source": [
    "![](./img/under_fit.png)"
   ]
  },
  {
   "cell_type": "markdown",
   "metadata": {
    "slideshow": {
     "slide_type": "slide"
    }
   },
   "source": [
    "# Overfitting\n",
    "Nuestro modelo aprendió los casos particulares de nuestros datos y no responde bien ante datos nuevos."
   ]
  },
  {
   "cell_type": "markdown",
   "metadata": {
    "slideshow": {
     "slide_type": "subslide"
    }
   },
   "source": [
    "![](./img/over_fit.png)"
   ]
  },
  {
   "cell_type": "markdown",
   "metadata": {
    "slideshow": {
     "slide_type": "slide"
    }
   },
   "source": [
    "# Resultado ideal\n",
    "Nuestro modelo aprendió de nuestros datos y generalizó para poder predecir bien el resultado en casos que no observó. "
   ]
  },
  {
   "cell_type": "markdown",
   "metadata": {
    "slideshow": {
     "slide_type": "subslide"
    }
   },
   "source": [
    "![](./img/good_fit.png)"
   ]
  },
  {
   "cell_type": "markdown",
   "metadata": {
    "slideshow": {
     "slide_type": "slide"
    }
   },
   "source": [
    "## ¿Cómo sabemos cuándo hay o no over o underfitting?"
   ]
  },
  {
   "cell_type": "markdown",
   "metadata": {
    "slideshow": {
     "slide_type": "fragment"
    }
   },
   "source": [
    "Para resolver nuestro problema, seguramente generemos muchos modelos diferentes con diferentes resultados. Para evaluarlos, necesitamos separar un subconjunto de nuestro dataset: el conjunto (o *set*) de **validación**."
   ]
  },
  {
   "cell_type": "markdown",
   "metadata": {
    "slideshow": {
     "slide_type": "fragment"
    }
   },
   "source": [
    "Nuestro modelo no tiene que aprender sobre el set de validación. Nunca debe conocer las verdaderas \"respuestas\". "
   ]
  },
  {
   "cell_type": "markdown",
   "metadata": {
    "slideshow": {
     "slide_type": "fragment"
    }
   },
   "source": [
    "Usando el set de validación vamos a tomar decisiones para obtener los mejores resultados. ¿Cómo sabemos si las decisiones que tomamos generalizan a nuevos datos, o si estamos sobreajustando a nuestro set de validación?"
   ]
  },
  {
   "cell_type": "markdown",
   "metadata": {
    "slideshow": {
     "slide_type": "subslide"
    }
   },
   "source": [
    "Hay un último set de datos que hay que separar. A éste lo vamos a usar para evaluar el verdadero rendimiento de nuestro modelo sobre datos que nunca vió y sobre los que no tomamos ninguna decisión. Éste es el set de **test**."
   ]
  },
  {
   "cell_type": "markdown",
   "metadata": {
    "slideshow": {
     "slide_type": "fragment"
    }
   },
   "source": [
    "![](./img/train_test_val.png)"
   ]
  },
  {
   "cell_type": "markdown",
   "metadata": {
    "slideshow": {
     "slide_type": "slide"
    }
   },
   "source": [
    "# Métricas de evaluación"
   ]
  },
  {
   "cell_type": "markdown",
   "metadata": {
    "slideshow": {
     "slide_type": "subslide"
    }
   },
   "source": [
    "## Accuracy\n",
    "\n",
    "\n",
    "![](./img/accuracy.gif)"
   ]
  },
  {
   "cell_type": "markdown",
   "metadata": {
    "slideshow": {
     "slide_type": "slide"
    }
   },
   "source": [
    "## Matriz de confusión\n",
    "\n",
    "\n",
    "![](./img/conf_mat.png)"
   ]
  },
  {
   "cell_type": "markdown",
   "metadata": {
    "slideshow": {
     "slide_type": "subslide"
    }
   },
   "source": [
    "Accuracy entonces se puede reescribir como:\n",
    "\n",
    "\n",
    "![](./img/acc2.gif)"
   ]
  },
  {
   "cell_type": "markdown",
   "metadata": {
    "slideshow": {
     "slide_type": "subslide"
    }
   },
   "source": [
    "### Precision & Recall"
   ]
  },
  {
   "cell_type": "markdown",
   "metadata": {
    "slideshow": {
     "slide_type": "fragment"
    }
   },
   "source": [
    "#### Precision\n",
    "¿Cuán confiable soy cuando digo que algo es positivo?\n",
    "![](./img/prec.gif)"
   ]
  },
  {
   "cell_type": "markdown",
   "metadata": {
    "slideshow": {
     "slide_type": "fragment"
    }
   },
   "source": [
    "#### Recall\n",
    "¿Cuán bueno soy indentificando casos que realmente son positivos?\n",
    "![](./img/rec.gif)"
   ]
  },
  {
   "cell_type": "markdown",
   "metadata": {
    "slideshow": {
     "slide_type": "subslide"
    }
   },
   "source": [
    "### F Score"
   ]
  },
  {
   "cell_type": "markdown",
   "metadata": {
    "slideshow": {
     "slide_type": "subslide"
    }
   },
   "source": [
    "#### F1 score\n",
    "![](./img/f1.gif)"
   ]
  },
  {
   "cell_type": "markdown",
   "metadata": {
    "slideshow": {
     "slide_type": "fragment"
    }
   },
   "source": [
    "#### Fβ score\n",
    "Le asigna a recall una importancia β con relacion a precision\n",
    "![](./img/fb.gif)"
   ]
  },
  {
   "cell_type": "markdown",
   "metadata": {
    "slideshow": {
     "slide_type": "slide"
    }
   },
   "source": [
    "# Support Vector Machine (SVM)"
   ]
  },
  {
   "cell_type": "markdown",
   "metadata": {
    "slideshow": {
     "slide_type": "subslide"
    }
   },
   "source": [
    "## ¿Qué es?\n",
    "Es un algoritmo (o conjunto de algoritmos) de aprendizaje de tipo supervisado."
   ]
  },
  {
   "cell_type": "markdown",
   "metadata": {
    "slideshow": {
     "slide_type": "subslide"
    }
   },
   "source": [
    "## ¿Qué tipos de tareas se pueden realizar con este algoritmo?\n",
    "\n",
    " - Clasificación\n",
    " - Regresión"
   ]
  },
  {
   "cell_type": "markdown",
   "metadata": {
    "slideshow": {
     "slide_type": "subslide"
    }
   },
   "source": [
    "## Ventajas de este algoritmo.\n",
    "\n",
    "Una SVM intenta encontrar la línea que \"mejor\" separa dos clases. Se entiende por mejor al \"hiperplano\" que deja el mayor margen entre dos clases. \n",
    "Los vectores de soporte son los que \"tocan\" las lineas negras.\n",
    "\n",
    "![](./img/SVM.jpeg)"
   ]
  },
  {
   "cell_type": "markdown",
   "metadata": {
    "slideshow": {
     "slide_type": "slide"
    }
   },
   "source": [
    "# Datos que no son linealmente separables\n",
    "\n",
    "¿Que pasaría si nuestro dataset tiene la siguiente forma?:\n",
    "\n",
    "![](./img/No-separable.png)"
   ]
  },
  {
   "cell_type": "markdown",
   "metadata": {
    "slideshow": {
     "slide_type": "slide"
    }
   },
   "source": [
    "# ¿Se puede usar SVM para separar datos separables no linealmente?\n",
    "\n",
    "No, lamentablemente obtenemos aproximadamente esto: \n",
    "\n",
    "![](./img/result-no-separable.png)"
   ]
  },
  {
   "cell_type": "markdown",
   "metadata": {
    "slideshow": {
     "slide_type": "subslide"
    }
   },
   "source": [
    "## Mirando el problema desde otra perspectiva\n",
    "\n",
    "Pero podemos modificar nuestros datos y proyectarlos de alguna manera para que sean separables linealmente:\n",
    "\n",
    "![](./img/transformacion.png)"
   ]
  },
  {
   "cell_type": "markdown",
   "metadata": {
    "slideshow": {
     "slide_type": "subslide"
    }
   },
   "source": [
    "## Kernels\n",
    "\n",
    "Una SVM usa kernels para transformar datos. De esa manera busca separar linealmente en el nuevo espacio creado por el Kernel.\n",
    "Logrando separar de la siguiente manera:\n",
    "![](./img/resultados-bien.png)"
   ]
  }
 ],
 "metadata": {
  "celltoolbar": "Slideshow",
  "kernelspec": {
   "display_name": "Python 3",
   "language": "python",
   "name": "python3"
  },
  "language_info": {
   "codemirror_mode": {
    "name": "ipython",
    "version": 3
   },
   "file_extension": ".py",
   "mimetype": "text/x-python",
   "name": "python",
   "nbconvert_exporter": "python",
   "pygments_lexer": "ipython3",
   "version": "3.6.0"
  }
 },
 "nbformat": 4,
 "nbformat_minor": 2
}
